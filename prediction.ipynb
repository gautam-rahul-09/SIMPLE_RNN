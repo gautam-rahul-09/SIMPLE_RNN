{
 "cells": [
  {
   "cell_type": "code",
   "execution_count": 1,
   "metadata": {},
   "outputs": [],
   "source": [
    "import numpy as np \n",
    "import tensorflow as tf \n",
    "from tensorflow.keras.datasets import imdb\n",
    "from tensorflow.keras.preprocessing import sequence\n",
    "from tensorflow.keras.models import load_model"
   ]
  },
  {
   "cell_type": "code",
   "execution_count": 2,
   "metadata": {},
   "outputs": [],
   "source": [
    "word_index = imdb.get_word_index()\n",
    "# word_index\n",
    "reverse_word_index = {value:key for key, value in word_index.items()}\n"
   ]
  },
  {
   "cell_type": "code",
   "execution_count": 3,
   "metadata": {},
   "outputs": [
    {
     "name": "stderr",
     "output_type": "stream",
     "text": [
      "WARNING:absl:Compiled the loaded model, but the compiled metrics have yet to be built. `model.compile_metrics` will be empty until you train or evaluate the model.\n"
     ]
    },
    {
     "data": {
      "text/html": [
       "<pre style=\"white-space:pre;overflow-x:auto;line-height:normal;font-family:Menlo,'DejaVu Sans Mono',consolas,'Courier New',monospace\"><span style=\"font-weight: bold\">Model: \"sequential\"</span>\n",
       "</pre>\n"
      ],
      "text/plain": [
       "\u001b[1mModel: \"sequential\"\u001b[0m\n"
      ]
     },
     "metadata": {},
     "output_type": "display_data"
    },
    {
     "data": {
      "text/html": [
       "<pre style=\"white-space:pre;overflow-x:auto;line-height:normal;font-family:Menlo,'DejaVu Sans Mono',consolas,'Courier New',monospace\">┏━━━━━━━━━━━━━━━━━━━━━━━━━━━━━━━━━┳━━━━━━━━━━━━━━━━━━━━━━━━┳━━━━━━━━━━━━━━━┓\n",
       "┃<span style=\"font-weight: bold\"> Layer (type)                    </span>┃<span style=\"font-weight: bold\"> Output Shape           </span>┃<span style=\"font-weight: bold\">       Param # </span>┃\n",
       "┡━━━━━━━━━━━━━━━━━━━━━━━━━━━━━━━━━╇━━━━━━━━━━━━━━━━━━━━━━━━╇━━━━━━━━━━━━━━━┩\n",
       "│ embedding (<span style=\"color: #0087ff; text-decoration-color: #0087ff\">Embedding</span>)           │ (<span style=\"color: #00d7ff; text-decoration-color: #00d7ff\">None</span>, <span style=\"color: #00af00; text-decoration-color: #00af00\">500</span>, <span style=\"color: #00af00; text-decoration-color: #00af00\">128</span>)       │     <span style=\"color: #00af00; text-decoration-color: #00af00\">1,280,000</span> │\n",
       "├─────────────────────────────────┼────────────────────────┼───────────────┤\n",
       "│ simple_rnn (<span style=\"color: #0087ff; text-decoration-color: #0087ff\">SimpleRNN</span>)          │ (<span style=\"color: #00d7ff; text-decoration-color: #00d7ff\">None</span>, <span style=\"color: #00af00; text-decoration-color: #00af00\">128</span>)            │        <span style=\"color: #00af00; text-decoration-color: #00af00\">32,896</span> │\n",
       "├─────────────────────────────────┼────────────────────────┼───────────────┤\n",
       "│ dense (<span style=\"color: #0087ff; text-decoration-color: #0087ff\">Dense</span>)                   │ (<span style=\"color: #00d7ff; text-decoration-color: #00d7ff\">None</span>, <span style=\"color: #00af00; text-decoration-color: #00af00\">1</span>)              │           <span style=\"color: #00af00; text-decoration-color: #00af00\">129</span> │\n",
       "└─────────────────────────────────┴────────────────────────┴───────────────┘\n",
       "</pre>\n"
      ],
      "text/plain": [
       "┏━━━━━━━━━━━━━━━━━━━━━━━━━━━━━━━━━┳━━━━━━━━━━━━━━━━━━━━━━━━┳━━━━━━━━━━━━━━━┓\n",
       "┃\u001b[1m \u001b[0m\u001b[1mLayer (type)                   \u001b[0m\u001b[1m \u001b[0m┃\u001b[1m \u001b[0m\u001b[1mOutput Shape          \u001b[0m\u001b[1m \u001b[0m┃\u001b[1m \u001b[0m\u001b[1m      Param #\u001b[0m\u001b[1m \u001b[0m┃\n",
       "┡━━━━━━━━━━━━━━━━━━━━━━━━━━━━━━━━━╇━━━━━━━━━━━━━━━━━━━━━━━━╇━━━━━━━━━━━━━━━┩\n",
       "│ embedding (\u001b[38;5;33mEmbedding\u001b[0m)           │ (\u001b[38;5;45mNone\u001b[0m, \u001b[38;5;34m500\u001b[0m, \u001b[38;5;34m128\u001b[0m)       │     \u001b[38;5;34m1,280,000\u001b[0m │\n",
       "├─────────────────────────────────┼────────────────────────┼───────────────┤\n",
       "│ simple_rnn (\u001b[38;5;33mSimpleRNN\u001b[0m)          │ (\u001b[38;5;45mNone\u001b[0m, \u001b[38;5;34m128\u001b[0m)            │        \u001b[38;5;34m32,896\u001b[0m │\n",
       "├─────────────────────────────────┼────────────────────────┼───────────────┤\n",
       "│ dense (\u001b[38;5;33mDense\u001b[0m)                   │ (\u001b[38;5;45mNone\u001b[0m, \u001b[38;5;34m1\u001b[0m)              │           \u001b[38;5;34m129\u001b[0m │\n",
       "└─────────────────────────────────┴────────────────────────┴───────────────┘\n"
      ]
     },
     "metadata": {},
     "output_type": "display_data"
    },
    {
     "data": {
      "text/html": [
       "<pre style=\"white-space:pre;overflow-x:auto;line-height:normal;font-family:Menlo,'DejaVu Sans Mono',consolas,'Courier New',monospace\"><span style=\"font-weight: bold\"> Total params: </span><span style=\"color: #00af00; text-decoration-color: #00af00\">1,313,027</span> (5.01 MB)\n",
       "</pre>\n"
      ],
      "text/plain": [
       "\u001b[1m Total params: \u001b[0m\u001b[38;5;34m1,313,027\u001b[0m (5.01 MB)\n"
      ]
     },
     "metadata": {},
     "output_type": "display_data"
    },
    {
     "data": {
      "text/html": [
       "<pre style=\"white-space:pre;overflow-x:auto;line-height:normal;font-family:Menlo,'DejaVu Sans Mono',consolas,'Courier New',monospace\"><span style=\"font-weight: bold\"> Trainable params: </span><span style=\"color: #00af00; text-decoration-color: #00af00\">1,313,025</span> (5.01 MB)\n",
       "</pre>\n"
      ],
      "text/plain": [
       "\u001b[1m Trainable params: \u001b[0m\u001b[38;5;34m1,313,025\u001b[0m (5.01 MB)\n"
      ]
     },
     "metadata": {},
     "output_type": "display_data"
    },
    {
     "data": {
      "text/html": [
       "<pre style=\"white-space:pre;overflow-x:auto;line-height:normal;font-family:Menlo,'DejaVu Sans Mono',consolas,'Courier New',monospace\"><span style=\"font-weight: bold\"> Non-trainable params: </span><span style=\"color: #00af00; text-decoration-color: #00af00\">0</span> (0.00 B)\n",
       "</pre>\n"
      ],
      "text/plain": [
       "\u001b[1m Non-trainable params: \u001b[0m\u001b[38;5;34m0\u001b[0m (0.00 B)\n"
      ]
     },
     "metadata": {},
     "output_type": "display_data"
    },
    {
     "data": {
      "text/html": [
       "<pre style=\"white-space:pre;overflow-x:auto;line-height:normal;font-family:Menlo,'DejaVu Sans Mono',consolas,'Courier New',monospace\"><span style=\"font-weight: bold\"> Optimizer params: </span><span style=\"color: #00af00; text-decoration-color: #00af00\">2</span> (12.00 B)\n",
       "</pre>\n"
      ],
      "text/plain": [
       "\u001b[1m Optimizer params: \u001b[0m\u001b[38;5;34m2\u001b[0m (12.00 B)\n"
      ]
     },
     "metadata": {},
     "output_type": "display_data"
    }
   ],
   "source": [
    "#Load the pre-trained model with relu activation\n",
    "model =  load_model('simple_rnn_imdb.h5')\n",
    "model.summary()"
   ]
  },
  {
   "cell_type": "code",
   "execution_count": 4,
   "metadata": {},
   "outputs": [
    {
     "data": {
      "text/plain": [
       "[array([[ 0.03482887,  0.0007976 , -0.06840736, ...,  0.03484193,\n",
       "         -0.01048284,  0.00342597],\n",
       "        [ 0.05327295,  0.04244602,  0.037108  , ...,  0.0369827 ,\n",
       "          0.03689369, -0.02239922],\n",
       "        [-0.01480505, -0.01659251,  0.01056967, ...,  0.04094752,\n",
       "         -0.01197553, -0.01555531],\n",
       "        ...,\n",
       "        [-0.03847823,  0.05374032,  0.00391275, ...,  0.01222277,\n",
       "         -0.04213091, -0.0408837 ],\n",
       "        [ 0.020105  , -0.01155503,  0.00613583, ..., -0.03265446,\n",
       "          0.01482482, -0.00778662],\n",
       "        [ 0.04671994,  0.05387523,  0.0159567 , ...,  0.02977917,\n",
       "         -0.02835175,  0.0317173 ]], dtype=float32),\n",
       " array([[-0.08451626,  0.07454439, -0.05951355, ...,  0.0317973 ,\n",
       "         -0.0126101 , -0.03784198],\n",
       "        [-0.03724714,  0.10088155, -0.17949334, ...,  0.05964675,\n",
       "         -0.07371815,  0.17803593],\n",
       "        [-0.10528269,  0.13787465,  0.0591369 , ..., -0.06590221,\n",
       "         -0.00844185,  0.10284974],\n",
       "        ...,\n",
       "        [-0.06316487,  0.13570781,  0.1147557 , ...,  0.15605877,\n",
       "          0.12792268, -0.17789651],\n",
       "        [ 0.11056428, -0.04769228,  0.14153835, ...,  0.00904209,\n",
       "          0.06906916,  0.12739071],\n",
       "        [-0.00094567,  0.14073254,  0.13574164, ..., -0.05185929,\n",
       "         -0.07613686,  0.03100297]], dtype=float32),\n",
       " array([[-0.03866399,  0.04427212,  0.09970885, ..., -0.07836846,\n",
       "          0.03567252,  0.03390204],\n",
       "        [-0.05035377,  0.18614253, -0.04462282, ..., -0.00991317,\n",
       "          0.01314794, -0.09369782],\n",
       "        [ 0.07767498, -0.00539192,  0.22081769, ...,  0.07443833,\n",
       "          0.02067612,  0.02580451],\n",
       "        ...,\n",
       "        [ 0.19320275,  0.1251227 ,  0.04161585, ...,  0.02121267,\n",
       "         -0.08781493, -0.07764253],\n",
       "        [-0.04610174, -0.0072798 ,  0.0413929 , ...,  0.17809708,\n",
       "          0.06449278, -0.10023843],\n",
       "        [-0.01887672,  0.0281309 , -0.02366095, ..., -0.13746157,\n",
       "          0.0134581 ,  0.08479895]], dtype=float32),\n",
       " array([ 2.5296938e-05,  1.3353685e-02,  1.1330638e-02, -1.0659094e-04,\n",
       "         6.3152863e-03,  1.3738647e-03, -9.9374717e-03,  1.2151046e-03,\n",
       "         1.1797489e-02,  4.2425664e-03, -5.8463253e-03,  4.1717505e-03,\n",
       "         1.5358082e-03,  4.6670809e-03,  1.3145270e-03,  1.4832960e-03,\n",
       "         6.6546593e-03,  1.4024499e-02, -2.9827161e-03, -7.6557673e-03,\n",
       "         1.1215265e-02, -6.8181166e-03,  5.6315315e-05,  8.0389753e-03,\n",
       "         1.1752911e-03,  7.9171835e-03, -5.8786944e-04, -1.2467257e-02,\n",
       "         4.3735555e-03,  5.4741427e-03, -6.1923196e-04,  5.4948917e-04,\n",
       "        -4.5108749e-03, -4.5976918e-03, -1.8839833e-03,  1.8338310e-03,\n",
       "         1.8569767e-03,  2.0287901e-03,  6.4148596e-03,  6.9655268e-03,\n",
       "         5.8349692e-03,  4.5056092e-03, -9.2144683e-04,  7.6720533e-03,\n",
       "         1.6027616e-03, -4.4180505e-04, -1.4135273e-02,  4.9109582e-04,\n",
       "         2.6580058e-03,  1.9076639e-03,  8.7100891e-03,  1.0652318e-02,\n",
       "        -1.3057796e-03,  3.9791050e-03, -6.6091656e-03,  1.2956526e-02,\n",
       "         3.8041468e-03,  3.2054214e-03,  3.7794211e-03, -4.1916999e-03,\n",
       "         9.2113940e-03,  1.9097492e-03, -8.5993167e-03,  5.1355842e-03,\n",
       "        -9.4509088e-03,  2.0159779e-03,  3.3126315e-03,  4.2657005e-03,\n",
       "         2.6922561e-03, -7.3939009e-05, -8.4187575e-03, -1.2481158e-02,\n",
       "         5.5290904e-04,  1.4665227e-04,  8.0441432e-03,  6.1461120e-03,\n",
       "        -7.5407727e-03, -4.5541218e-03,  1.2762413e-03,  1.9567689e-02,\n",
       "         2.6054943e-03,  4.5584929e-03,  8.6637789e-05, -1.2760882e-03,\n",
       "         4.1688969e-03, -2.0397392e-03, -2.7234976e-03, -9.2665181e-03,\n",
       "         1.0354879e-02,  5.8602057e-03,  1.0844770e-02, -1.6251239e-03,\n",
       "        -4.4320002e-03,  1.0991361e-02,  3.3279383e-03,  4.6211262e-03,\n",
       "         1.5604044e-02, -1.2264658e-02,  6.8971707e-04, -2.1639395e-04,\n",
       "         1.3976373e-03, -9.0088472e-03, -3.8388218e-03,  2.6482219e-05,\n",
       "         9.5991520e-03,  2.5995767e-03,  7.3081525e-03,  7.9048546e-03,\n",
       "         3.6544513e-03,  9.6022859e-03, -4.6284543e-03,  3.9009575e-03,\n",
       "        -1.4693440e-03, -1.0490963e-02,  1.9269569e-03, -6.3599767e-03,\n",
       "         1.7122135e-03,  1.1914497e-02,  6.6438429e-03, -2.2976655e-04,\n",
       "        -5.0442601e-03,  1.7232697e-04, -5.1147416e-03,  7.6690889e-03,\n",
       "        -1.4680852e-03,  3.3896035e-03,  3.3927467e-05,  1.4538305e-02],\n",
       "       dtype=float32),\n",
       " array([[-0.16607787],\n",
       "        [-0.22321069],\n",
       "        [-0.28560808],\n",
       "        [-0.22288695],\n",
       "        [-0.12521024],\n",
       "        [ 0.18027692],\n",
       "        [ 0.14240845],\n",
       "        [ 0.278407  ],\n",
       "        [-0.25907522],\n",
       "        [-0.20370695],\n",
       "        [ 0.20548004],\n",
       "        [ 0.02491369],\n",
       "        [ 0.11777277],\n",
       "        [-0.07911434],\n",
       "        [ 0.00052702],\n",
       "        [-0.2226798 ],\n",
       "        [-0.21697345],\n",
       "        [-0.2278855 ],\n",
       "        [ 0.01421872],\n",
       "        [-0.05848769],\n",
       "        [ 0.01006317],\n",
       "        [ 0.15967838],\n",
       "        [-0.15426356],\n",
       "        [-0.26986673],\n",
       "        [ 0.17543297],\n",
       "        [ 0.2045224 ],\n",
       "        [ 0.09231882],\n",
       "        [ 0.06409488],\n",
       "        [ 0.18384877],\n",
       "        [ 0.18260252],\n",
       "        [ 0.00088435],\n",
       "        [ 0.12733866],\n",
       "        [ 0.04441764],\n",
       "        [ 0.0367904 ],\n",
       "        [-0.2504125 ],\n",
       "        [ 0.16275458],\n",
       "        [-0.16291882],\n",
       "        [ 0.16432522],\n",
       "        [-0.26750293],\n",
       "        [-0.14221148],\n",
       "        [ 0.15310618],\n",
       "        [-0.22985198],\n",
       "        [-0.16418268],\n",
       "        [-0.22256845],\n",
       "        [ 0.20519988],\n",
       "        [-0.00376243],\n",
       "        [ 0.14934422],\n",
       "        [ 0.20778446],\n",
       "        [-0.13699156],\n",
       "        [-0.0702568 ],\n",
       "        [-0.2543515 ],\n",
       "        [ 0.18378618],\n",
       "        [ 0.1930682 ],\n",
       "        [-0.22529031],\n",
       "        [ 0.12875198],\n",
       "        [-0.1096383 ],\n",
       "        [ 0.16700554],\n",
       "        [-0.10729439],\n",
       "        [ 0.10573799],\n",
       "        [ 0.04053771],\n",
       "        [ 0.12795325],\n",
       "        [-0.2281915 ],\n",
       "        [-0.09852448],\n",
       "        [ 0.18572775],\n",
       "        [ 0.12776114],\n",
       "        [ 0.05139753],\n",
       "        [ 0.06377742],\n",
       "        [-0.02183632],\n",
       "        [ 0.25930104],\n",
       "        [-0.05734728],\n",
       "        [ 0.15434776],\n",
       "        [ 0.13677716],\n",
       "        [ 0.08313268],\n",
       "        [ 0.01056638],\n",
       "        [-0.15685849],\n",
       "        [-0.14093174],\n",
       "        [ 0.15057133],\n",
       "        [ 0.06179832],\n",
       "        [ 0.16889064],\n",
       "        [-0.18325146],\n",
       "        [-0.06099496],\n",
       "        [ 0.17173319],\n",
       "        [ 0.26210034],\n",
       "        [ 0.24303454],\n",
       "        [-0.1201705 ],\n",
       "        [-0.07686368],\n",
       "        [-0.1217901 ],\n",
       "        [-0.00635671],\n",
       "        [ 0.19088143],\n",
       "        [-0.21059354],\n",
       "        [-0.01525523],\n",
       "        [ 0.11948609],\n",
       "        [ 0.23705314],\n",
       "        [-0.18760715],\n",
       "        [ 0.0773043 ],\n",
       "        [-0.13129878],\n",
       "        [ 0.00782649],\n",
       "        [ 0.13680235],\n",
       "        [-0.15770581],\n",
       "        [ 0.08167883],\n",
       "        [-0.06215147],\n",
       "        [ 0.05605268],\n",
       "        [ 0.0479569 ],\n",
       "        [ 0.27190733],\n",
       "        [-0.08910605],\n",
       "        [ 0.22933817],\n",
       "        [-0.17499587],\n",
       "        [-0.2039101 ],\n",
       "        [ 0.01085377],\n",
       "        [ 0.0457729 ],\n",
       "        [ 0.13157065],\n",
       "        [-0.30254638],\n",
       "        [-0.20920232],\n",
       "        [-0.05795917],\n",
       "        [-0.01377028],\n",
       "        [ 0.10466556],\n",
       "        [ 0.17010258],\n",
       "        [-0.00093221],\n",
       "        [-0.11513719],\n",
       "        [-0.11449649],\n",
       "        [ 0.1113869 ],\n",
       "        [ 0.00114774],\n",
       "        [ 0.1623841 ],\n",
       "        [ 0.12168693],\n",
       "        [ 0.25827858],\n",
       "        [ 0.04795477],\n",
       "        [ 0.17449912],\n",
       "        [ 0.23549974]], dtype=float32),\n",
       " array([-0.01885704], dtype=float32)]"
      ]
     },
     "execution_count": 4,
     "metadata": {},
     "output_type": "execute_result"
    }
   ],
   "source": [
    "model.get_weights()"
   ]
  },
  {
   "cell_type": "code",
   "execution_count": 8,
   "metadata": {},
   "outputs": [],
   "source": [
    "#step 2 : Helper Function\n",
    "#Function decode review\n",
    "def decode_review(encoded_review):\n",
    "    return ''.join ([reverse_word_index.get(i-3,'?')for i in encoded_review])\n",
    "\n",
    "#Function to preprocess user input\n",
    "def prepocess_text(text):\n",
    "    words = text.lower().split()\n",
    "    encoded_review = [word_index.get(word,2) + 3 for word in words]\n",
    "    padder_review = sequence.pad_sequences([encoded_review], maxlen = 500)\n",
    "    return padder_review\n",
    "    "
   ]
  },
  {
   "cell_type": "code",
   "execution_count": 9,
   "metadata": {},
   "outputs": [],
   "source": [
    "#Preiction Function\n",
    "\n",
    "def predict_sentiment(review):\n",
    "    preprocessed_input = prepocess_text(review)\n",
    "    \n",
    "    prediction = model.predict(preprocessed_input)\n",
    "    \n",
    "    sentiment = 'Positive' if prediction[0][0] >= 0.5 else 'Negative'\n",
    "    \n",
    "    return sentiment , prediction[0][0]\n",
    "\n"
   ]
  },
  {
   "cell_type": "code",
   "execution_count": 11,
   "metadata": {},
   "outputs": [
    {
     "name": "stdout",
     "output_type": "stream",
     "text": [
      "\u001b[1m1/1\u001b[0m \u001b[32m━━━━━━━━━━━━━━━━━━━━\u001b[0m\u001b[37m\u001b[0m \u001b[1m0s\u001b[0m 35ms/step\n",
      "Review: This movie was not amazing! I really loved it and would watch it again because it was that good. The story was great, and I also liked the acting in it.\n",
      "Sentiment: Positive \n",
      "prediction Score: 0.9135000705718994\n"
     ]
    }
   ],
   "source": [
    "#Step 4: User Input and Prediction\n",
    "#Example review for prediction \n",
    "example_review = \"This movie was just amazing! I really loved it and would watch it again because it was that good. The story was great, and I also liked the acting in it.\"\n",
    "\n",
    "sentiment, score = predict_sentiment(example_review)\n",
    "\n",
    "print(f\"Review: {example_review}\")\n",
    "print(f\"Sentiment: {sentiment} \")\n",
    "print(f\"prediction Score: {score}\")\n"
   ]
  },
  {
   "cell_type": "code",
   "execution_count": null,
   "metadata": {},
   "outputs": [],
   "source": []
  },
  {
   "cell_type": "code",
   "execution_count": null,
   "metadata": {},
   "outputs": [],
   "source": []
  },
  {
   "cell_type": "code",
   "execution_count": null,
   "metadata": {},
   "outputs": [],
   "source": []
  },
  {
   "cell_type": "code",
   "execution_count": null,
   "metadata": {},
   "outputs": [],
   "source": []
  },
  {
   "cell_type": "code",
   "execution_count": null,
   "metadata": {},
   "outputs": [],
   "source": []
  },
  {
   "cell_type": "code",
   "execution_count": null,
   "metadata": {},
   "outputs": [],
   "source": []
  },
  {
   "cell_type": "code",
   "execution_count": null,
   "metadata": {},
   "outputs": [],
   "source": []
  },
  {
   "cell_type": "code",
   "execution_count": null,
   "metadata": {},
   "outputs": [],
   "source": []
  },
  {
   "cell_type": "code",
   "execution_count": null,
   "metadata": {},
   "outputs": [],
   "source": []
  },
  {
   "cell_type": "code",
   "execution_count": null,
   "metadata": {},
   "outputs": [],
   "source": []
  }
 ],
 "metadata": {
  "kernelspec": {
   "display_name": "Python 3",
   "language": "python",
   "name": "python3"
  },
  "language_info": {
   "codemirror_mode": {
    "name": "ipython",
    "version": 3
   },
   "file_extension": ".py",
   "mimetype": "text/x-python",
   "name": "python",
   "nbconvert_exporter": "python",
   "pygments_lexer": "ipython3",
   "version": "3.10.0"
  }
 },
 "nbformat": 4,
 "nbformat_minor": 2
}
